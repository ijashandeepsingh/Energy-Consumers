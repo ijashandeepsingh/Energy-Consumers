{
 "cells": [
  {
   "cell_type": "markdown",
   "metadata": {},
   "source": [
    "# Assignment-1\n",
    "\n",
    "### Unit:  FIT-5145\n",
    "### Submitted to: Yassein Shaalan\n",
    "### Tutor Session: Tuesdays 4 PM \n",
    "\n",
    "### Submitted by: Jashandeep Singh  \n",
    "### Student ID:  30895014"
   ]
  },
  {
   "cell_type": "markdown",
   "metadata": {},
   "source": [
    "Reference List\n",
    "\n",
    "https://matplotlib.org/api/pyplot_api.html\n",
    "https://pandas.pydata.org/pandas-docs/stable/reference/api/pandas.DataFrame.sum.html\n",
    "https://pandas.pydata.org/pandas-docs/version/0.15.0/visualization.html#scatter-plot\n",
    "https://matplotlib.org/tutorials/introductory/pyplot.html\n",
    "https://matplotlib.org/3.2.1/api/_as_gen/matplotlib.pyplot.legend.html\n",
    "https://pandas.pydata.org/pandas-docs/stable/reference/api/pandas.Series.str.isnumeric.html\n",
    "https://pandas.pydata.org/pandas-docs/stable/reference/api/pandas.DataFrame.set_index.html\n",
    "https://pandas.pydata.org/pandas-docs/stable/reference/api/pandas.DataFrame.reset_index.html"
   ]
  },
  {
   "cell_type": "markdown",
   "metadata": {},
   "source": [
    "\n",
    "# Task A: Exploratory Data Analysis of the Energy Dataset\n",
    "\n",
    "## A1. Investigating the Energy Generation data for Victoria"
   ]
  },
  {
   "cell_type": "markdown",
   "metadata": {},
   "source": [
    "##### 1. First, read the data for Victoria state into a dataframe. You will observe that some values for the fuel types (eg. Black coal etc.) are missing or have ‘Nan’. To handle it, replace these values with zero (using appropriate python code) before proceeding with the rest of the questions."
   ]
  },
  {
   "cell_type": "code",
   "execution_count": 1,
   "metadata": {
    "scrolled": true
   },
   "outputs": [
    {
     "data": {
      "text/html": [
       "<div>\n",
       "<style scoped>\n",
       "    .dataframe tbody tr th:only-of-type {\n",
       "        vertical-align: middle;\n",
       "    }\n",
       "\n",
       "    .dataframe tbody tr th {\n",
       "        vertical-align: top;\n",
       "    }\n",
       "\n",
       "    .dataframe thead th {\n",
       "        text-align: right;\n",
       "    }\n",
       "</style>\n",
       "<table border=\"1\" class=\"dataframe\">\n",
       "  <thead>\n",
       "    <tr style=\"text-align: right;\">\n",
       "      <th></th>\n",
       "      <th>State</th>\n",
       "      <th>Fuel_Type</th>\n",
       "      <th>Category</th>\n",
       "      <th>2009</th>\n",
       "      <th>2010</th>\n",
       "      <th>2011</th>\n",
       "      <th>2012</th>\n",
       "      <th>2013</th>\n",
       "      <th>2014</th>\n",
       "      <th>2015</th>\n",
       "      <th>2016</th>\n",
       "      <th>2017</th>\n",
       "      <th>2018</th>\n",
       "    </tr>\n",
       "  </thead>\n",
       "  <tbody>\n",
       "    <tr>\n",
       "      <th>0</th>\n",
       "      <td>VIC</td>\n",
       "      <td>Black coal</td>\n",
       "      <td>Non-renewable fuels</td>\n",
       "      <td>0.0</td>\n",
       "      <td>0.0</td>\n",
       "      <td>0.0</td>\n",
       "      <td>0.0</td>\n",
       "      <td>0.0</td>\n",
       "      <td>0.0</td>\n",
       "      <td>0.0</td>\n",
       "      <td>31.9</td>\n",
       "      <td>36.3</td>\n",
       "      <td>0.0</td>\n",
       "    </tr>\n",
       "    <tr>\n",
       "      <th>1</th>\n",
       "      <td>VIC</td>\n",
       "      <td>Brown coal</td>\n",
       "      <td>Non-renewable fuels</td>\n",
       "      <td>52094.0</td>\n",
       "      <td>51541.7</td>\n",
       "      <td>51066.5</td>\n",
       "      <td>52059.7</td>\n",
       "      <td>45317.6</td>\n",
       "      <td>43977.7</td>\n",
       "      <td>48336.8</td>\n",
       "      <td>46202.2</td>\n",
       "      <td>43557.8</td>\n",
       "      <td>36067.0</td>\n",
       "    </tr>\n",
       "    <tr>\n",
       "      <th>2</th>\n",
       "      <td>VIC</td>\n",
       "      <td>Natural gas</td>\n",
       "      <td>Non-renewable fuels</td>\n",
       "      <td>1451.9</td>\n",
       "      <td>1697.9</td>\n",
       "      <td>1289.8</td>\n",
       "      <td>1142.5</td>\n",
       "      <td>3247.7</td>\n",
       "      <td>3239.3</td>\n",
       "      <td>2390.9</td>\n",
       "      <td>1892.2</td>\n",
       "      <td>2658.7</td>\n",
       "      <td>3899.4</td>\n",
       "    </tr>\n",
       "    <tr>\n",
       "      <th>3</th>\n",
       "      <td>VIC</td>\n",
       "      <td>Oil products</td>\n",
       "      <td>Non-renewable fuels</td>\n",
       "      <td>20.4</td>\n",
       "      <td>1.1</td>\n",
       "      <td>38.2</td>\n",
       "      <td>4.0</td>\n",
       "      <td>10.7</td>\n",
       "      <td>145.8</td>\n",
       "      <td>156.0</td>\n",
       "      <td>70.6</td>\n",
       "      <td>109.3</td>\n",
       "      <td>164.8</td>\n",
       "    </tr>\n",
       "    <tr>\n",
       "      <th>4</th>\n",
       "      <td>VIC</td>\n",
       "      <td>Other</td>\n",
       "      <td>Non-renewable fuels</td>\n",
       "      <td>61.1</td>\n",
       "      <td>115.9</td>\n",
       "      <td>114.5</td>\n",
       "      <td>0.0</td>\n",
       "      <td>0.0</td>\n",
       "      <td>0.0</td>\n",
       "      <td>0.0</td>\n",
       "      <td>0.0</td>\n",
       "      <td>0.0</td>\n",
       "      <td>0.0</td>\n",
       "    </tr>\n",
       "    <tr>\n",
       "      <th>5</th>\n",
       "      <td>VIC</td>\n",
       "      <td>Biomass</td>\n",
       "      <td>Renewable fuels</td>\n",
       "      <td>292.0</td>\n",
       "      <td>303.4</td>\n",
       "      <td>339.6</td>\n",
       "      <td>859.3</td>\n",
       "      <td>845.1</td>\n",
       "      <td>886.9</td>\n",
       "      <td>672.2</td>\n",
       "      <td>747.7</td>\n",
       "      <td>694.5</td>\n",
       "      <td>661.8</td>\n",
       "    </tr>\n",
       "    <tr>\n",
       "      <th>6</th>\n",
       "      <td>VIC</td>\n",
       "      <td>Wind</td>\n",
       "      <td>Renewable fuels</td>\n",
       "      <td>573.0</td>\n",
       "      <td>1406.0</td>\n",
       "      <td>1434.4</td>\n",
       "      <td>1416.2</td>\n",
       "      <td>2005.1</td>\n",
       "      <td>2771.9</td>\n",
       "      <td>3067.8</td>\n",
       "      <td>3341.8</td>\n",
       "      <td>3560.9</td>\n",
       "      <td>4224.2</td>\n",
       "    </tr>\n",
       "    <tr>\n",
       "      <th>7</th>\n",
       "      <td>VIC</td>\n",
       "      <td>Hydro</td>\n",
       "      <td>Renewable fuels</td>\n",
       "      <td>557.8</td>\n",
       "      <td>843.7</td>\n",
       "      <td>1118.5</td>\n",
       "      <td>1047.4</td>\n",
       "      <td>940.3</td>\n",
       "      <td>1103.0</td>\n",
       "      <td>1170.9</td>\n",
       "      <td>1207.6</td>\n",
       "      <td>824.8</td>\n",
       "      <td>785.3</td>\n",
       "    </tr>\n",
       "    <tr>\n",
       "      <th>8</th>\n",
       "      <td>VIC</td>\n",
       "      <td>Large-scale solar PV</td>\n",
       "      <td>Renewable fuels</td>\n",
       "      <td>0.0</td>\n",
       "      <td>0.0</td>\n",
       "      <td>0.0</td>\n",
       "      <td>0.0</td>\n",
       "      <td>0.0</td>\n",
       "      <td>4.4</td>\n",
       "      <td>9.1</td>\n",
       "      <td>11.5</td>\n",
       "      <td>13.8</td>\n",
       "      <td>39.4</td>\n",
       "    </tr>\n",
       "    <tr>\n",
       "      <th>9</th>\n",
       "      <td>VIC</td>\n",
       "      <td>Small-scale solar PV</td>\n",
       "      <td>Renewable fuels</td>\n",
       "      <td>24.1</td>\n",
       "      <td>66.2</td>\n",
       "      <td>205.5</td>\n",
       "      <td>378.7</td>\n",
       "      <td>580.1</td>\n",
       "      <td>674.2</td>\n",
       "      <td>874.8</td>\n",
       "      <td>-1056.1</td>\n",
       "      <td>1231.7</td>\n",
       "      <td>1481.2</td>\n",
       "    </tr>\n",
       "    <tr>\n",
       "      <th>10</th>\n",
       "      <td>VIC</td>\n",
       "      <td>Geothermal</td>\n",
       "      <td>Renewable fuels</td>\n",
       "      <td>0.0</td>\n",
       "      <td>0.0</td>\n",
       "      <td>0.0</td>\n",
       "      <td>0.0</td>\n",
       "      <td>0.0</td>\n",
       "      <td>0.0</td>\n",
       "      <td>0.0</td>\n",
       "      <td>0.0</td>\n",
       "      <td>0.0</td>\n",
       "      <td>0.0</td>\n",
       "    </tr>\n",
       "  </tbody>\n",
       "</table>\n",
       "</div>"
      ],
      "text/plain": [
       "   State             Fuel_Type             Category     2009     2010  \\\n",
       "0    VIC            Black coal  Non-renewable fuels      0.0      0.0   \n",
       "1    VIC            Brown coal  Non-renewable fuels  52094.0  51541.7   \n",
       "2    VIC           Natural gas  Non-renewable fuels   1451.9   1697.9   \n",
       "3    VIC          Oil products  Non-renewable fuels     20.4      1.1   \n",
       "4    VIC                 Other  Non-renewable fuels     61.1    115.9   \n",
       "5    VIC               Biomass      Renewable fuels    292.0    303.4   \n",
       "6    VIC                  Wind      Renewable fuels    573.0   1406.0   \n",
       "7    VIC                 Hydro      Renewable fuels    557.8    843.7   \n",
       "8    VIC  Large-scale solar PV      Renewable fuels      0.0      0.0   \n",
       "9    VIC  Small-scale solar PV      Renewable fuels     24.1     66.2   \n",
       "10   VIC            Geothermal      Renewable fuels      0.0      0.0   \n",
       "\n",
       "       2011     2012     2013     2014     2015     2016     2017     2018  \n",
       "0       0.0      0.0      0.0      0.0      0.0     31.9     36.3      0.0  \n",
       "1   51066.5  52059.7  45317.6  43977.7  48336.8  46202.2  43557.8  36067.0  \n",
       "2    1289.8   1142.5   3247.7   3239.3   2390.9   1892.2   2658.7   3899.4  \n",
       "3      38.2      4.0     10.7    145.8    156.0     70.6    109.3    164.8  \n",
       "4     114.5      0.0      0.0      0.0      0.0      0.0      0.0      0.0  \n",
       "5     339.6    859.3    845.1    886.9    672.2    747.7    694.5    661.8  \n",
       "6    1434.4   1416.2   2005.1   2771.9   3067.8   3341.8   3560.9   4224.2  \n",
       "7    1118.5   1047.4    940.3   1103.0   1170.9   1207.6    824.8    785.3  \n",
       "8       0.0      0.0      0.0      4.4      9.1     11.5     13.8     39.4  \n",
       "9     205.5    378.7    580.1    674.2    874.8  -1056.1   1231.7   1481.2  \n",
       "10      0.0      0.0      0.0      0.0      0.0      0.0      0.0      0.0  "
      ]
     },
     "execution_count": 1,
     "metadata": {},
     "output_type": "execute_result"
    }
   ],
   "source": [
    "# importing the libraries \n",
    "import pandas as pd\n",
    "import matplotlib.pyplot as plt\n",
    "%matplotlib inline\n",
    "\n",
    "\n",
    "energy_data_df = pd.read_excel('energy_data.xlsx', sheet_name='VIC')\n",
    "\n",
    "energy_data_df.fillna(0, inplace=True)  #changing null values as 0\n",
    "\n",
    "\n",
    "\n",
    "energy_data_df #showing the df\n"
   ]
  },
  {
   "cell_type": "markdown",
   "metadata": {},
   "source": [
    "###### 1.a. Using Python, plot the total energy generation in Victoria over the time period covered in the dataset (2009 to 2018). Describe the trend you see in the overall energy generation for the given time period."
   ]
  },
  {
   "cell_type": "code",
   "execution_count": 2,
   "metadata": {},
   "outputs": [
    {
     "data": {
      "text/plain": [
       "2009    55074.3\n",
       "2010    55975.9\n",
       "2011    55607.0\n",
       "2012    56907.8\n",
       "2013    52946.6\n",
       "2014    52803.2\n",
       "2015    56678.5\n",
       "2016    52449.4\n",
       "2017    52687.8\n",
       "2018    47323.1\n",
       "dtype: float64"
      ]
     },
     "execution_count": 2,
     "metadata": {},
     "output_type": "execute_result"
    },
    {
     "data": {
      "image/png": "[encoded data removed]",
      "text/plain": [
       "<Figure size 576x576 with 1 Axes>"
      ]
     },
     "metadata": {
      "needs_background": "light"
     },
     "output_type": "display_data"
    }
   ],
   "source": [
    "plt.ylabel(\"Total Energy Generation (Gigawatt hours)\") #labeling the axis of the plot\n",
    "plt.xlabel(\"Years\")\n",
    "\n",
    "energy_data_df.sum(axis=0 , numeric_only=True).plot(figsize=(8,8)) #Using the parameter numeric_only for filtering numerical values.\n",
    "\n",
    "\n",
    "\n",
    "energy_data_df.sum(axis=0 , numeric_only=True) #showing the output"
   ]
  },
  {
   "cell_type": "markdown",
   "metadata": {},
   "source": [
    "###### 1.b. Draw a new plot showing the trend in total renewable and non-renewable energy generation for the same time period? What trend can you observe from this graph?"
   ]
  },
  {
   "cell_type": "code",
   "execution_count": 3,
   "metadata": {},
   "outputs": [
    {
     "data": {
      "text/plain": [
       "<matplotlib.legend.Legend at 0x7faead188c10>"
      ]
     },
     "execution_count": 3,
     "metadata": {},
     "output_type": "execute_result"
    },
    {
     "data": {
      "image/png": "[encoded data removed]",
      "text/plain": [
       "<Figure size 432x288 with 1 Axes>"
      ]
     },
     "metadata": {
      "needs_background": "light"
     },
     "output_type": "display_data"
    }
   ],
   "source": [
    "non_renewable_sum = energy_data_df.loc[energy_data_df['Category'] == 'Non-renewable fuels'].sum(axis=0 , numeric_only=True)\n",
    "renewable_sum = energy_data_df.loc[energy_data_df['Category'] == 'Renewable fuels'].sum(axis=0 , numeric_only=True)\n",
    "\n",
    "plt.ylabel(\"Total Energy Generation (Gigawatt hours)\") #labeling the axis of the plot\n",
    "plt.xlabel(\"Years\")\n",
    "\n",
    "plt.plot(non_renewable_sum,  'r', label=\"Non-Renewable Fuels\") # defining red color to the plot and declaring labels for legend\n",
    "plt.plot(renewable_sum, label=\"Renewable Fuels\") \n",
    "plt.legend() # showing the legend in the plot\n",
    "\n"
   ]
  },
  {
   "cell_type": "markdown",
   "metadata": {},
   "source": [
    "###### 1.c. Draw a bar chart showing the breakdown of the different fuel types used for energy generation in 2009 vs in 2018? Explain your observation.\n",
    " "
   ]
  },
  {
   "cell_type": "code",
   "execution_count": 4,
   "metadata": {
    "scrolled": false
   },
   "outputs": [
    {
     "data": {
      "text/html": [
       "<div>\n",
       "<style scoped>\n",
       "    .dataframe tbody tr th:only-of-type {\n",
       "        vertical-align: middle;\n",
       "    }\n",
       "\n",
       "    .dataframe tbody tr th {\n",
       "        vertical-align: top;\n",
       "    }\n",
       "\n",
       "    .dataframe thead th {\n",
       "        text-align: right;\n",
       "    }\n",
       "</style>\n",
       "<table border=\"1\" class=\"dataframe\">\n",
       "  <thead>\n",
       "    <tr style=\"text-align: right;\">\n",
       "      <th></th>\n",
       "      <th>2009</th>\n",
       "      <th>2018</th>\n",
       "    </tr>\n",
       "    <tr>\n",
       "      <th>Fuel_Type</th>\n",
       "      <th></th>\n",
       "      <th></th>\n",
       "    </tr>\n",
       "  </thead>\n",
       "  <tbody>\n",
       "    <tr>\n",
       "      <th>Black coal</th>\n",
       "      <td>0.0</td>\n",
       "      <td>0.0</td>\n",
       "    </tr>\n",
       "    <tr>\n",
       "      <th>Brown coal</th>\n",
       "      <td>52094.0</td>\n",
       "      <td>36067.0</td>\n",
       "    </tr>\n",
       "    <tr>\n",
       "      <th>Natural gas</th>\n",
       "      <td>1451.9</td>\n",
       "      <td>3899.4</td>\n",
       "    </tr>\n",
       "    <tr>\n",
       "      <th>Oil products</th>\n",
       "      <td>20.4</td>\n",
       "      <td>164.8</td>\n",
       "    </tr>\n",
       "    <tr>\n",
       "      <th>Other</th>\n",
       "      <td>61.1</td>\n",
       "      <td>0.0</td>\n",
       "    </tr>\n",
       "    <tr>\n",
       "      <th>Biomass</th>\n",
       "      <td>292.0</td>\n",
       "      <td>661.8</td>\n",
       "    </tr>\n",
       "    <tr>\n",
       "      <th>Wind</th>\n",
       "      <td>573.0</td>\n",
       "      <td>4224.2</td>\n",
       "    </tr>\n",
       "    <tr>\n",
       "      <th>Hydro</th>\n",
       "      <td>557.8</td>\n",
       "      <td>785.3</td>\n",
       "    </tr>\n",
       "    <tr>\n",
       "      <th>Large-scale solar PV</th>\n",
       "      <td>0.0</td>\n",
       "      <td>39.4</td>\n",
       "    </tr>\n",
       "    <tr>\n",
       "      <th>Small-scale solar PV</th>\n",
       "      <td>24.1</td>\n",
       "      <td>1481.2</td>\n",
       "    </tr>\n",
       "    <tr>\n",
       "      <th>Geothermal</th>\n",
       "      <td>0.0</td>\n",
       "      <td>0.0</td>\n",
       "    </tr>\n",
       "  </tbody>\n",
       "</table>\n",
       "</div>"
      ],
      "text/plain": [
       "                         2009     2018\n",
       "Fuel_Type                             \n",
       "Black coal                0.0      0.0\n",
       "Brown coal            52094.0  36067.0\n",
       "Natural gas            1451.9   3899.4\n",
       "Oil products             20.4    164.8\n",
       "Other                    61.1      0.0\n",
       "Biomass                 292.0    661.8\n",
       "Wind                    573.0   4224.2\n",
       "Hydro                   557.8    785.3\n",
       "Large-scale solar PV      0.0     39.4\n",
       "Small-scale solar PV     24.1   1481.2\n",
       "Geothermal                0.0      0.0"
      ]
     },
     "execution_count": 4,
     "metadata": {},
     "output_type": "execute_result"
    },
    {
     "data": {
      "image/png": "[encoded data removed]",
      "text/plain": [
       "<Figure size 720x720 with 1 Axes>"
      ]
     },
     "metadata": {
      "needs_background": "light"
     },
     "output_type": "display_data"
    }
   ],
   "source": [
    "\n",
    "energy_data_df[[\"Fuel_Type\", 2009, 2018]].set_index('Fuel_Type').plot.bar(figsize=(10,10))\n",
    "plt.xlabel(\"Fuel Types\")\n",
    "plt.ylabel(\"Energy Generated (Gigawatt hours)\")\n",
    "\n",
    "\n",
    "energy_data_df[[\"Fuel_Type\", 2009, 2018]].set_index('Fuel_Type') #showing the df"
   ]
  },
  {
   "cell_type": "markdown",
   "metadata": {},
   "source": [
    "###### 1.d. What was the most used energy resource (fuel-type) in 2015? Which renewable fuel type was the least used in 2015?"
   ]
  },
  {
   "cell_type": "code",
   "execution_count": 5,
   "metadata": {
    "scrolled": true
   },
   "outputs": [
    {
     "data": {
      "text/plain": [
       "Text(0, 0.5, 'Energy Generation (Gigawatt hours)')"
      ]
     },
     "execution_count": 5,
     "metadata": {},
     "output_type": "execute_result"
    },
    {
     "data": {
      "image/png": "[encoded data removed]",
      "text/plain": [
       "<Figure size 576x576 with 1 Axes>"
      ]
     },
     "metadata": {
      "needs_background": "light"
     },
     "output_type": "display_data"
    },
    {
     "data": {
      "image/png": "[encoded data removed]",
      "text/plain": [
       "<Figure size 576x576 with 1 Axes>"
      ]
     },
     "metadata": {
      "needs_background": "light"
     },
     "output_type": "display_data"
    }
   ],
   "source": [
    "\n",
    "energy_data_df[[\"Fuel_Type\",2015]].set_index('Fuel_Type').plot.bar(figsize=(8,8)) #Selecting index for plotting fuel type and year\n",
    "plt.xlabel(\"Fuel Type (All)\")\n",
    "plt.ylabel(\"Energy Generation (Gigawatt hours)\")\n",
    "\n",
    "\n",
    "x = energy_data_df[energy_data_df.Category == \"Renewable fuels\"] # defining new dataframe with only Renewable fuels\n",
    "\n",
    "x[[\"Fuel_Type\",2015]].set_index('Fuel_Type').plot.bar(figsize=(8,8))\n",
    "plt.xlabel(\"Fuel Type (Renewable Fuels)\")\n",
    "plt.ylabel(\"Energy Generation (Gigawatt hours)\")\n",
    "\n"
   ]
  },
  {
   "cell_type": "markdown",
   "metadata": {},
   "source": [
    "###### 1.e. Draw a plot showing the percentage of Victoria's energy generation coming from Renewable vs Non-Renewable energy sources over the period 2009 to 2018. What can you say about the trend you observe?"
   ]
  },
  {
   "cell_type": "code",
   "execution_count": 6,
   "metadata": {
    "scrolled": true
   },
   "outputs": [
    {
     "data": {
      "text/html": [
       "<div>\n",
       "<style scoped>\n",
       "    .dataframe tbody tr th:only-of-type {\n",
       "        vertical-align: middle;\n",
       "    }\n",
       "\n",
       "    .dataframe tbody tr th {\n",
       "        vertical-align: top;\n",
       "    }\n",
       "\n",
       "    .dataframe thead th {\n",
       "        text-align: right;\n",
       "    }\n",
       "</style>\n",
       "<table border=\"1\" class=\"dataframe\">\n",
       "  <thead>\n",
       "    <tr style=\"text-align: right;\">\n",
       "      <th></th>\n",
       "      <th>Renewable Energy Sources</th>\n",
       "      <th>Non-renewable Energy Sources</th>\n",
       "    </tr>\n",
       "  </thead>\n",
       "  <tbody>\n",
       "    <tr>\n",
       "      <th>2009</th>\n",
       "      <td>2.627178</td>\n",
       "      <td>97.372822</td>\n",
       "    </tr>\n",
       "    <tr>\n",
       "      <th>2010</th>\n",
       "      <td>4.679335</td>\n",
       "      <td>95.320665</td>\n",
       "    </tr>\n",
       "    <tr>\n",
       "      <th>2011</th>\n",
       "      <td>5.571241</td>\n",
       "      <td>94.428759</td>\n",
       "    </tr>\n",
       "    <tr>\n",
       "      <th>2012</th>\n",
       "      <td>6.504556</td>\n",
       "      <td>93.495444</td>\n",
       "    </tr>\n",
       "    <tr>\n",
       "      <th>2013</th>\n",
       "      <td>8.254732</td>\n",
       "      <td>91.745268</td>\n",
       "    </tr>\n",
       "    <tr>\n",
       "      <th>2014</th>\n",
       "      <td>10.303163</td>\n",
       "      <td>89.696837</td>\n",
       "    </tr>\n",
       "    <tr>\n",
       "      <th>2015</th>\n",
       "      <td>10.223983</td>\n",
       "      <td>89.776017</td>\n",
       "    </tr>\n",
       "    <tr>\n",
       "      <th>2016</th>\n",
       "      <td>8.107814</td>\n",
       "      <td>91.892186</td>\n",
       "    </tr>\n",
       "    <tr>\n",
       "      <th>2017</th>\n",
       "      <td>12.006005</td>\n",
       "      <td>87.993995</td>\n",
       "    </tr>\n",
       "    <tr>\n",
       "      <th>2018</th>\n",
       "      <td>15.197441</td>\n",
       "      <td>84.802559</td>\n",
       "    </tr>\n",
       "  </tbody>\n",
       "</table>\n",
       "</div>"
      ],
      "text/plain": [
       "      Renewable Energy Sources  Non-renewable Energy Sources\n",
       "2009                  2.627178                     97.372822\n",
       "2010                  4.679335                     95.320665\n",
       "2011                  5.571241                     94.428759\n",
       "2012                  6.504556                     93.495444\n",
       "2013                  8.254732                     91.745268\n",
       "2014                 10.303163                     89.696837\n",
       "2015                 10.223983                     89.776017\n",
       "2016                  8.107814                     91.892186\n",
       "2017                 12.006005                     87.993995\n",
       "2018                 15.197441                     84.802559"
      ]
     },
     "execution_count": 6,
     "metadata": {},
     "output_type": "execute_result"
    },
    {
     "data": {
      "image/png": "[encoded data removed]",
      "text/plain": [
       "<Figure size 576x576 with 1 Axes>"
      ]
     },
     "metadata": {
      "needs_background": "light"
     },
     "output_type": "display_data"
    }
   ],
   "source": [
    "total_energy = non_renewable_sum + renewable_sum    # variables from part A1.1.b. , total_energy defines the total energy produced in that year\n",
    "\n",
    "df_energy_generation = pd.DataFrame({\n",
    "                                     \"Renewable Energy Sources\": (renewable_sum/total_energy)*100,\n",
    "                                     \"Non-renewable Energy Sources\": (non_renewable_sum/total_energy)*100,\n",
    "                                    })    # years are already defined in index for plotting\n",
    "\n",
    "\n",
    "df_energy_generation.plot.bar(figsize=(8,8)) #changing the size of the plot\n",
    "\n",
    "plt.xlabel(\"Years\")\n",
    "plt.ylabel(\"Percentage of Energy Generation (VIC)\")\n",
    "\n",
    "\n",
    "df_energy_generation # showing the df"
   ]
  },
  {
   "cell_type": "markdown",
   "metadata": {},
   "source": [
    "###### 1.f. Using a linear regression model, predict what percentage of Victoria’s energy generation will come from Renewable energy sources in the year 2030, 2100? Do the predictions seem reasonable?"
   ]
  },
  {
   "cell_type": "code",
   "execution_count": 7,
   "metadata": {},
   "outputs": [
    {
     "name": "stdout",
     "output_type": "stream",
     "text": [
      "Slope is 1.153386 Intercept is -2313.994407\n"
     ]
    },
    {
     "data": {
      "image/png": "[encoded data removed]",
      "text/plain": [
       "<Figure size 432x288 with 1 Axes>"
      ]
     },
     "metadata": {
      "needs_background": "light"
     },
     "output_type": "display_data"
    },
    {
     "name": "stdout",
     "output_type": "stream",
     "text": [
      "The prediction for year 2030 is: 27.378408 percent\n",
      "The prediction for year 2100 is: 108.115401 percent\n"
     ]
    },
    {
     "data": {
      "text/html": [
       "<div>\n",
       "<style scoped>\n",
       "    .dataframe tbody tr th:only-of-type {\n",
       "        vertical-align: middle;\n",
       "    }\n",
       "\n",
       "    .dataframe tbody tr th {\n",
       "        vertical-align: top;\n",
       "    }\n",
       "\n",
       "    .dataframe thead th {\n",
       "        text-align: right;\n",
       "    }\n",
       "</style>\n",
       "<table border=\"1\" class=\"dataframe\">\n",
       "  <thead>\n",
       "    <tr style=\"text-align: right;\">\n",
       "      <th></th>\n",
       "      <th>Years</th>\n",
       "      <th>Percentage</th>\n",
       "    </tr>\n",
       "  </thead>\n",
       "  <tbody>\n",
       "    <tr>\n",
       "      <th>0</th>\n",
       "      <td>2009</td>\n",
       "      <td>2.627178</td>\n",
       "    </tr>\n",
       "    <tr>\n",
       "      <th>1</th>\n",
       "      <td>2010</td>\n",
       "      <td>4.679335</td>\n",
       "    </tr>\n",
       "    <tr>\n",
       "      <th>2</th>\n",
       "      <td>2011</td>\n",
       "      <td>5.571241</td>\n",
       "    </tr>\n",
       "    <tr>\n",
       "      <th>3</th>\n",
       "      <td>2012</td>\n",
       "      <td>6.504556</td>\n",
       "    </tr>\n",
       "    <tr>\n",
       "      <th>4</th>\n",
       "      <td>2013</td>\n",
       "      <td>8.254732</td>\n",
       "    </tr>\n",
       "    <tr>\n",
       "      <th>5</th>\n",
       "      <td>2014</td>\n",
       "      <td>10.303163</td>\n",
       "    </tr>\n",
       "    <tr>\n",
       "      <th>6</th>\n",
       "      <td>2015</td>\n",
       "      <td>10.223983</td>\n",
       "    </tr>\n",
       "    <tr>\n",
       "      <th>7</th>\n",
       "      <td>2016</td>\n",
       "      <td>8.107814</td>\n",
       "    </tr>\n",
       "    <tr>\n",
       "      <th>8</th>\n",
       "      <td>2017</td>\n",
       "      <td>12.006005</td>\n",
       "    </tr>\n",
       "    <tr>\n",
       "      <th>9</th>\n",
       "      <td>2018</td>\n",
       "      <td>15.197441</td>\n",
       "    </tr>\n",
       "  </tbody>\n",
       "</table>\n",
       "</div>"
      ],
      "text/plain": [
       "   Years  Percentage\n",
       "0   2009    2.627178\n",
       "1   2010    4.679335\n",
       "2   2011    5.571241\n",
       "3   2012    6.504556\n",
       "4   2013    8.254732\n",
       "5   2014   10.303163\n",
       "6   2015   10.223983\n",
       "7   2016    8.107814\n",
       "8   2017   12.006005\n",
       "9   2018   15.197441"
      ]
     },
     "execution_count": 7,
     "metadata": {},
     "output_type": "execute_result"
    }
   ],
   "source": [
    "percentage_renewable_sum  = (renewable_sum/total_energy)*100   # variables from A1.1.e\n",
    "\n",
    "# converting series to dataframe \n",
    "df_percentage = percentage_renewable_sum.to_frame().reset_index()\n",
    "\n",
    "\n",
    "df_percentage.columns = [\"Years\", \"Percentage\"]\n",
    "\n",
    "df_percentage.set_index(\"Years\")\n",
    "\n",
    "\n",
    "\n",
    "\n",
    "\n",
    "plt.scatter(df_percentage[\"Years\"] ,df_percentage[\"Percentage\"] )\n",
    "plt.ylabel(\"Percentage\")\n",
    "plt.xlabel(\"Years\")\n",
    "\n",
    "\n",
    "\n",
    "# linear regression model \n",
    "\n",
    "from scipy import stats \n",
    "\n",
    "from scipy.stats import linregress\n",
    "\n",
    "\n",
    "# linregress() will help us determine slope and intercept of the function. \n",
    "\n",
    "slope, intercept, r_value, p_value, std_err = linregress(df_percentage[\"Years\"] ,df_percentage[\"Percentage\"] )\n",
    "\n",
    "print(\"Slope is %f\" %slope , \"Intercept is %f\" %intercept)\n",
    "\n",
    "line = [slope*xi + intercept for xi in df_percentage[\"Years\"]]   # y = mx+c, determining the regression line on current data \n",
    "\n",
    "plt.plot(df_percentage[\"Years\"],line,'r-', linewidth=3 , label=\"Regression line\")\n",
    "plt.scatter(df_percentage[\"Years\"] ,df_percentage[\"Percentage\"] ,label=\"Original data\" )\n",
    "plt.legend()\n",
    "plt.show()\n",
    "\n",
    "# generating prediction values by using y = mx+c, where x is Years, m is the slope, c is the intercept. \n",
    "\n",
    "# for year 2030\n",
    "x_predict = 2030\n",
    "y_predict = slope * x_predict + intercept \n",
    "\n",
    "print(\"The prediction for year 2030 is: %f percent\"  %y_predict)\n",
    "\n",
    "#for year 2100\n",
    "x_predict = 2100\n",
    "y_predict = slope * x_predict + intercept \n",
    "print(\"The prediction for year 2100 is: %f percent\"  %y_predict)\n",
    "\n",
    "\n",
    "df_percentage # showing the df\n"
   ]
  },
  {
   "cell_type": "markdown",
   "metadata": {},
   "source": [
    "## A2. Investigating the Energy Generation data for Australia."
   ]
  },
  {
   "cell_type": "markdown",
   "metadata": {},
   "source": [
    "###### 1. Let’s do some further investigation by combining the data for all the states and territories in Australia. Read the data for the rest of the states and merge them in a single dataframe. (Hint: you can use a combination of merge, melt or concat operators to get your data in a format suitable for answering the following questions)"
   ]
  },
  {
   "cell_type": "code",
   "execution_count": 8,
   "metadata": {},
   "outputs": [
    {
     "data": {
      "text/html": [
       "<div>\n",
       "<style scoped>\n",
       "    .dataframe tbody tr th:only-of-type {\n",
       "        vertical-align: middle;\n",
       "    }\n",
       "\n",
       "    .dataframe tbody tr th {\n",
       "        vertical-align: top;\n",
       "    }\n",
       "\n",
       "    .dataframe thead th {\n",
       "        text-align: right;\n",
       "    }\n",
       "</style>\n",
       "<table border=\"1\" class=\"dataframe\">\n",
       "  <thead>\n",
       "    <tr style=\"text-align: right;\">\n",
       "      <th></th>\n",
       "      <th>State</th>\n",
       "      <th>Fuel_Type</th>\n",
       "      <th>Category</th>\n",
       "      <th>2009</th>\n",
       "      <th>2010</th>\n",
       "      <th>2011</th>\n",
       "      <th>2012</th>\n",
       "      <th>2013</th>\n",
       "      <th>2014</th>\n",
       "      <th>2015</th>\n",
       "      <th>2016</th>\n",
       "      <th>2017</th>\n",
       "      <th>2018</th>\n",
       "    </tr>\n",
       "  </thead>\n",
       "  <tbody>\n",
       "    <tr>\n",
       "      <th>0</th>\n",
       "      <td>VIC</td>\n",
       "      <td>Black coal</td>\n",
       "      <td>Non-renewable fuels</td>\n",
       "      <td>0.0</td>\n",
       "      <td>0.0</td>\n",
       "      <td>0.0</td>\n",
       "      <td>0.0</td>\n",
       "      <td>0.0</td>\n",
       "      <td>0.0</td>\n",
       "      <td>0.0</td>\n",
       "      <td>31.9</td>\n",
       "      <td>36.3</td>\n",
       "      <td>0.0</td>\n",
       "    </tr>\n",
       "    <tr>\n",
       "      <th>1</th>\n",
       "      <td>VIC</td>\n",
       "      <td>Brown coal</td>\n",
       "      <td>Non-renewable fuels</td>\n",
       "      <td>52094.0</td>\n",
       "      <td>51541.7</td>\n",
       "      <td>51066.5</td>\n",
       "      <td>52059.7</td>\n",
       "      <td>45317.6</td>\n",
       "      <td>43977.7</td>\n",
       "      <td>48336.8</td>\n",
       "      <td>46202.2</td>\n",
       "      <td>43557.8</td>\n",
       "      <td>36067.0</td>\n",
       "    </tr>\n",
       "    <tr>\n",
       "      <th>2</th>\n",
       "      <td>VIC</td>\n",
       "      <td>Natural gas</td>\n",
       "      <td>Non-renewable fuels</td>\n",
       "      <td>1451.9</td>\n",
       "      <td>1697.9</td>\n",
       "      <td>1289.8</td>\n",
       "      <td>1142.5</td>\n",
       "      <td>3247.7</td>\n",
       "      <td>3239.3</td>\n",
       "      <td>2390.9</td>\n",
       "      <td>1892.2</td>\n",
       "      <td>2658.7</td>\n",
       "      <td>3899.4</td>\n",
       "    </tr>\n",
       "    <tr>\n",
       "      <th>3</th>\n",
       "      <td>VIC</td>\n",
       "      <td>Oil products</td>\n",
       "      <td>Non-renewable fuels</td>\n",
       "      <td>20.4</td>\n",
       "      <td>1.1</td>\n",
       "      <td>38.2</td>\n",
       "      <td>4.0</td>\n",
       "      <td>10.7</td>\n",
       "      <td>145.8</td>\n",
       "      <td>156.0</td>\n",
       "      <td>70.6</td>\n",
       "      <td>109.3</td>\n",
       "      <td>164.8</td>\n",
       "    </tr>\n",
       "    <tr>\n",
       "      <th>4</th>\n",
       "      <td>VIC</td>\n",
       "      <td>Other</td>\n",
       "      <td>Non-renewable fuels</td>\n",
       "      <td>61.1</td>\n",
       "      <td>115.9</td>\n",
       "      <td>114.5</td>\n",
       "      <td>0.0</td>\n",
       "      <td>0.0</td>\n",
       "      <td>0.0</td>\n",
       "      <td>0.0</td>\n",
       "      <td>0.0</td>\n",
       "      <td>0.0</td>\n",
       "      <td>0.0</td>\n",
       "    </tr>\n",
       "    <tr>\n",
       "      <th>...</th>\n",
       "      <td>...</td>\n",
       "      <td>...</td>\n",
       "      <td>...</td>\n",
       "      <td>...</td>\n",
       "      <td>...</td>\n",
       "      <td>...</td>\n",
       "      <td>...</td>\n",
       "      <td>...</td>\n",
       "      <td>...</td>\n",
       "      <td>...</td>\n",
       "      <td>...</td>\n",
       "      <td>...</td>\n",
       "      <td>...</td>\n",
       "    </tr>\n",
       "    <tr>\n",
       "      <th>72</th>\n",
       "      <td>WA</td>\n",
       "      <td>Wind</td>\n",
       "      <td>Renewable fuels</td>\n",
       "      <td>675.1</td>\n",
       "      <td>664.0</td>\n",
       "      <td>719.3</td>\n",
       "      <td>1278.7</td>\n",
       "      <td>1300.2</td>\n",
       "      <td>1578.8</td>\n",
       "      <td>1643.2</td>\n",
       "      <td>1476.5</td>\n",
       "      <td>1616.7</td>\n",
       "      <td>1593.0</td>\n",
       "    </tr>\n",
       "    <tr>\n",
       "      <th>73</th>\n",
       "      <td>WA</td>\n",
       "      <td>Hydro</td>\n",
       "      <td>Renewable fuels</td>\n",
       "      <td>0.0</td>\n",
       "      <td>0.0</td>\n",
       "      <td>0.0</td>\n",
       "      <td>0.0</td>\n",
       "      <td>221.3</td>\n",
       "      <td>205.4</td>\n",
       "      <td>206.1</td>\n",
       "      <td>217.0</td>\n",
       "      <td>212.6</td>\n",
       "      <td>217.9</td>\n",
       "    </tr>\n",
       "    <tr>\n",
       "      <th>74</th>\n",
       "      <td>WA</td>\n",
       "      <td>Large-scale solar PV</td>\n",
       "      <td>Renewable fuels</td>\n",
       "      <td>0.0</td>\n",
       "      <td>0.0</td>\n",
       "      <td>0.0</td>\n",
       "      <td>0.0</td>\n",
       "      <td>0.0</td>\n",
       "      <td>24.1</td>\n",
       "      <td>23.9</td>\n",
       "      <td>28.3</td>\n",
       "      <td>34.3</td>\n",
       "      <td>45.6</td>\n",
       "    </tr>\n",
       "    <tr>\n",
       "      <th>75</th>\n",
       "      <td>WA</td>\n",
       "      <td>Small-scale solar PV</td>\n",
       "      <td>Renewable fuels</td>\n",
       "      <td>18.7</td>\n",
       "      <td>57.5</td>\n",
       "      <td>198.1</td>\n",
       "      <td>331.4</td>\n",
       "      <td>449.5</td>\n",
       "      <td>495.8</td>\n",
       "      <td>622.1</td>\n",
       "      <td>760.8</td>\n",
       "      <td>941.1</td>\n",
       "      <td>1196.4</td>\n",
       "    </tr>\n",
       "    <tr>\n",
       "      <th>76</th>\n",
       "      <td>WA</td>\n",
       "      <td>Geothermal</td>\n",
       "      <td>Renewable fuels</td>\n",
       "      <td>0.0</td>\n",
       "      <td>0.0</td>\n",
       "      <td>0.0</td>\n",
       "      <td>0.0</td>\n",
       "      <td>0.0</td>\n",
       "      <td>0.0</td>\n",
       "      <td>0.0</td>\n",
       "      <td>0.0</td>\n",
       "      <td>0.0</td>\n",
       "      <td>0.0</td>\n",
       "    </tr>\n",
       "  </tbody>\n",
       "</table>\n",
       "<p>77 rows × 13 columns</p>\n",
       "</div>"
      ],
      "text/plain": [
       "   State             Fuel_Type             Category     2009     2010  \\\n",
       "0    VIC            Black coal  Non-renewable fuels      0.0      0.0   \n",
       "1    VIC            Brown coal  Non-renewable fuels  52094.0  51541.7   \n",
       "2    VIC           Natural gas  Non-renewable fuels   1451.9   1697.9   \n",
       "3    VIC          Oil products  Non-renewable fuels     20.4      1.1   \n",
       "4    VIC                 Other  Non-renewable fuels     61.1    115.9   \n",
       "..   ...                   ...                  ...      ...      ...   \n",
       "72    WA                  Wind      Renewable fuels    675.1    664.0   \n",
       "73    WA                 Hydro      Renewable fuels      0.0      0.0   \n",
       "74    WA  Large-scale solar PV      Renewable fuels      0.0      0.0   \n",
       "75    WA  Small-scale solar PV      Renewable fuels     18.7     57.5   \n",
       "76    WA            Geothermal      Renewable fuels      0.0      0.0   \n",
       "\n",
       "       2011     2012     2013     2014     2015     2016     2017     2018  \n",
       "0       0.0      0.0      0.0      0.0      0.0     31.9     36.3      0.0  \n",
       "1   51066.5  52059.7  45317.6  43977.7  48336.8  46202.2  43557.8  36067.0  \n",
       "2    1289.8   1142.5   3247.7   3239.3   2390.9   1892.2   2658.7   3899.4  \n",
       "3      38.2      4.0     10.7    145.8    156.0     70.6    109.3    164.8  \n",
       "4     114.5      0.0      0.0      0.0      0.0      0.0      0.0      0.0  \n",
       "..      ...      ...      ...      ...      ...      ...      ...      ...  \n",
       "72    719.3   1278.7   1300.2   1578.8   1643.2   1476.5   1616.7   1593.0  \n",
       "73      0.0      0.0    221.3    205.4    206.1    217.0    212.6    217.9  \n",
       "74      0.0      0.0      0.0     24.1     23.9     28.3     34.3     45.6  \n",
       "75    198.1    331.4    449.5    495.8    622.1    760.8    941.1   1196.4  \n",
       "76      0.0      0.0      0.0      0.0      0.0      0.0      0.0      0.0  \n",
       "\n",
       "[77 rows x 13 columns]"
      ]
     },
     "execution_count": 8,
     "metadata": {},
     "output_type": "execute_result"
    }
   ],
   "source": [
    "all_energy_data_df = pd.concat(pd.read_excel(\"energy_data.xlsx\", sheet_name=None), ignore_index=True)\n",
    "\n",
    "all_energy_data_df.fillna(0, inplace=True)  #changing null values as 0, for easier auditing\n",
    "\n",
    "all_energy_data_df # showing the df\n"
   ]
  },
  {
   "cell_type": "markdown",
   "metadata": {},
   "source": [
    "###### 1.a. Plot a column chart showing the total energy generated in Australia by fuel type in the year 2018.\n"
   ]
  },
  {
   "cell_type": "code",
   "execution_count": 9,
   "metadata": {
    "scrolled": false
   },
   "outputs": [
    {
     "data": {
      "text/html": [
       "<div>\n",
       "<style scoped>\n",
       "    .dataframe tbody tr th:only-of-type {\n",
       "        vertical-align: middle;\n",
       "    }\n",
       "\n",
       "    .dataframe tbody tr th {\n",
       "        vertical-align: top;\n",
       "    }\n",
       "\n",
       "    .dataframe thead th {\n",
       "        text-align: right;\n",
       "    }\n",
       "</style>\n",
       "<table border=\"1\" class=\"dataframe\">\n",
       "  <thead>\n",
       "    <tr style=\"text-align: right;\">\n",
       "      <th></th>\n",
       "      <th>2018</th>\n",
       "    </tr>\n",
       "    <tr>\n",
       "      <th>Fuel_Type</th>\n",
       "      <th></th>\n",
       "    </tr>\n",
       "  </thead>\n",
       "  <tbody>\n",
       "    <tr>\n",
       "      <th>Biomass</th>\n",
       "      <td>3534.1</td>\n",
       "    </tr>\n",
       "    <tr>\n",
       "      <th>Black coal</th>\n",
       "      <td>121592.6</td>\n",
       "    </tr>\n",
       "    <tr>\n",
       "      <th>Brown coal</th>\n",
       "      <td>36067.0</td>\n",
       "    </tr>\n",
       "    <tr>\n",
       "      <th>Geothermal</th>\n",
       "      <td>0.0</td>\n",
       "    </tr>\n",
       "    <tr>\n",
       "      <th>Hydro</th>\n",
       "      <td>15838.9</td>\n",
       "    </tr>\n",
       "    <tr>\n",
       "      <th>Large-scale solar PV</th>\n",
       "      <td>1007.6</td>\n",
       "    </tr>\n",
       "    <tr>\n",
       "      <th>Natural gas</th>\n",
       "      <td>53839.4</td>\n",
       "    </tr>\n",
       "    <tr>\n",
       "      <th>Oil products</th>\n",
       "      <td>5262.6</td>\n",
       "    </tr>\n",
       "    <tr>\n",
       "      <th>Other</th>\n",
       "      <td>0.0</td>\n",
       "    </tr>\n",
       "    <tr>\n",
       "      <th>Small-scale solar PV</th>\n",
       "      <td>8922.4</td>\n",
       "    </tr>\n",
       "    <tr>\n",
       "      <th>Wind</th>\n",
       "      <td>14989.5</td>\n",
       "    </tr>\n",
       "  </tbody>\n",
       "</table>\n",
       "</div>"
      ],
      "text/plain": [
       "                          2018\n",
       "Fuel_Type                     \n",
       "Biomass                 3534.1\n",
       "Black coal            121592.6\n",
       "Brown coal             36067.0\n",
       "Geothermal                 0.0\n",
       "Hydro                  15838.9\n",
       "Large-scale solar PV    1007.6\n",
       "Natural gas            53839.4\n",
       "Oil products            5262.6\n",
       "Other                      0.0\n",
       "Small-scale solar PV    8922.4\n",
       "Wind                   14989.5"
      ]
     },
     "execution_count": 9,
     "metadata": {},
     "output_type": "execute_result"
    },
    {
     "data": {
      "image/png": "[encoded data removed]",
      "text/plain": [
       "<Figure size 576x576 with 1 Axes>"
      ]
     },
     "metadata": {
      "needs_background": "light"
     },
     "output_type": "display_data"
    }
   ],
   "source": [
    "f = all_energy_data_df[[\"Fuel_Type\", 2018]]\n",
    "\n",
    "\n",
    "f.groupby(\"Fuel_Type\").sum().plot.bar(figsize = (8,8)) # Total energy generated \n",
    "plt.xlabel(\"Fuel Type\")\n",
    "plt.ylabel(\"Total Energy Generated in Australia (Gigawatt Hours)\")\n",
    "\n",
    "f.groupby(\"Fuel_Type\").sum() # showing the data"
   ]
  },
  {
   "cell_type": "markdown",
   "metadata": {},
   "source": [
    "###### 1.b. Which state had the highest energy production in 2018? What is the ratio (percentage breakdown) of renewable vs non-renewable energy production for that state in 2018."
   ]
  },
  {
   "cell_type": "code",
   "execution_count": 10,
   "metadata": {},
   "outputs": [
    {
     "name": "stdout",
     "output_type": "stream",
     "text": [
      "2018    NSW\n",
      "dtype: object\n"
     ]
    },
    {
     "data": {
      "text/html": [
       "<div>\n",
       "<style scoped>\n",
       "    .dataframe tbody tr th:only-of-type {\n",
       "        vertical-align: middle;\n",
       "    }\n",
       "\n",
       "    .dataframe tbody tr th {\n",
       "        vertical-align: top;\n",
       "    }\n",
       "\n",
       "    .dataframe thead th {\n",
       "        text-align: right;\n",
       "    }\n",
       "</style>\n",
       "<table border=\"1\" class=\"dataframe\">\n",
       "  <thead>\n",
       "    <tr style=\"text-align: right;\">\n",
       "      <th></th>\n",
       "      <th>Renewable Energy Production Percentage</th>\n",
       "      <th>Non-renewable Energy Production Percentage</th>\n",
       "    </tr>\n",
       "  </thead>\n",
       "  <tbody>\n",
       "    <tr>\n",
       "      <th>2018</th>\n",
       "      <td>15.660312</td>\n",
       "      <td>84.339688</td>\n",
       "    </tr>\n",
       "  </tbody>\n",
       "</table>\n",
       "</div>"
      ],
      "text/plain": [
       "      Renewable Energy Production Percentage  \\\n",
       "2018                               15.660312   \n",
       "\n",
       "      Non-renewable Energy Production Percentage  \n",
       "2018                                   84.339688  "
      ]
     },
     "execution_count": 10,
     "metadata": {},
     "output_type": "execute_result"
    },
    {
     "data": {
      "image/png": "[encoded data removed]",
      "text/plain": [
       "<Figure size 576x576 with 1 Axes>"
      ]
     },
     "metadata": {
      "needs_background": "light"
     },
     "output_type": "display_data"
    }
   ],
   "source": [
    "g = all_energy_data_df[[\"State\", \"Fuel_Type\", 2018]]\n",
    "\n",
    "total_state_energy = g.groupby(\"State\").sum() #State is the index of the df\n",
    "\n",
    "max_state = total_state_energy[[2018]].idxmax() #returns the Name for the state with highest energy production\n",
    "print(max_state)\n",
    "\n",
    "# NSW is the State with highest energy production. \n",
    "\n",
    "df_NSW = all_energy_data_df.loc[all_energy_data_df[\"State\"]== \"NSW\"].reset_index()\n",
    "df_NSW_energy = df_NSW[[\"Fuel_Type\", \"Category\", 2018]]\n",
    "df_NSW_energy # df of NSW for year 2018\n",
    "\n",
    "NSW_renewable_sum = df_NSW_energy.loc[df_NSW_energy[\"Category\"] == \"Renewable fuels\"].sum(axis=0 , numeric_only=True)\n",
    "NSW_non_renewable_sum = df_NSW_energy.loc[df_NSW_energy[\"Category\"] == \"Non-renewable fuels\"].sum(axis=0 , numeric_only=True)\n",
    "NSW_total_sum = NSW_renewable_sum + NSW_non_renewable_sum \n",
    "\n",
    "NSW_energy_breakdown = pd.DataFrame({ \"Renewable Energy Production Percentage\" : (NSW_renewable_sum/NSW_total_sum)*100,\n",
    "                                    \"Non-renewable Energy Production Percentage\" :(NSW_non_renewable_sum/NSW_total_sum)*100 \n",
    "                                    })  # the dataframe consists of the percentage values\n",
    "\n",
    "\n",
    "\n",
    "NSW_energy_breakdown.plot.bar(figsize = (8,8))\n",
    "plt.xlabel(\"Year\")\n",
    "plt.ylabel(\"Percentage Energy Production\")\n",
    "\n",
    "\n",
    "NSW_energy_breakdown # showing the df\n"
   ]
  },
  {
   "cell_type": "markdown",
   "metadata": {},
   "source": [
    "###### 1.c. Draw a plot showing the percentage of energy generation from renewable energy sources for each state over the period 2009 to 2018. From your graph, which state do you think is making the most progress towards adopting green energy? Provide a reason for your answer."
   ]
  },
  {
   "cell_type": "code",
   "execution_count": 11,
   "metadata": {},
   "outputs": [
    {
     "data": {
      "text/html": [
       "<div>\n",
       "<style scoped>\n",
       "    .dataframe tbody tr th:only-of-type {\n",
       "        vertical-align: middle;\n",
       "    }\n",
       "\n",
       "    .dataframe tbody tr th {\n",
       "        vertical-align: top;\n",
       "    }\n",
       "\n",
       "    .dataframe thead th {\n",
       "        text-align: right;\n",
       "    }\n",
       "</style>\n",
       "<table border=\"1\" class=\"dataframe\">\n",
       "  <thead>\n",
       "    <tr style=\"text-align: right;\">\n",
       "      <th></th>\n",
       "      <th>2009</th>\n",
       "      <th>2010</th>\n",
       "      <th>2011</th>\n",
       "      <th>2012</th>\n",
       "      <th>2013</th>\n",
       "      <th>2014</th>\n",
       "      <th>2015</th>\n",
       "      <th>2016</th>\n",
       "      <th>2017</th>\n",
       "      <th>2018</th>\n",
       "    </tr>\n",
       "    <tr>\n",
       "      <th>State</th>\n",
       "      <th></th>\n",
       "      <th></th>\n",
       "      <th></th>\n",
       "      <th></th>\n",
       "      <th></th>\n",
       "      <th></th>\n",
       "      <th></th>\n",
       "      <th></th>\n",
       "      <th></th>\n",
       "      <th></th>\n",
       "    </tr>\n",
       "  </thead>\n",
       "  <tbody>\n",
       "    <tr>\n",
       "      <th>NSW</th>\n",
       "      <td>5.278109</td>\n",
       "      <td>6.771295</td>\n",
       "      <td>9.536412</td>\n",
       "      <td>8.447289</td>\n",
       "      <td>11.630281</td>\n",
       "      <td>10.177022</td>\n",
       "      <td>10.574166</td>\n",
       "      <td>14.231296</td>\n",
       "      <td>16.037979</td>\n",
       "      <td>15.660312</td>\n",
       "    </tr>\n",
       "    <tr>\n",
       "      <th>NT</th>\n",
       "      <td>0.331919</td>\n",
       "      <td>0.413274</td>\n",
       "      <td>0.462648</td>\n",
       "      <td>0.552802</td>\n",
       "      <td>0.706010</td>\n",
       "      <td>0.963675</td>\n",
       "      <td>1.478145</td>\n",
       "      <td>1.911347</td>\n",
       "      <td>2.921807</td>\n",
       "      <td>3.513067</td>\n",
       "    </tr>\n",
       "    <tr>\n",
       "      <th>QLD</th>\n",
       "      <td>3.884591</td>\n",
       "      <td>3.476066</td>\n",
       "      <td>3.606199</td>\n",
       "      <td>4.140304</td>\n",
       "      <td>5.207971</td>\n",
       "      <td>6.292163</td>\n",
       "      <td>6.044747</td>\n",
       "      <td>6.463106</td>\n",
       "      <td>6.497393</td>\n",
       "      <td>7.151522</td>\n",
       "    </tr>\n",
       "    <tr>\n",
       "      <th>SA</th>\n",
       "      <td>14.424195</td>\n",
       "      <td>15.350651</td>\n",
       "      <td>21.855236</td>\n",
       "      <td>26.845457</td>\n",
       "      <td>29.485390</td>\n",
       "      <td>37.472847</td>\n",
       "      <td>39.854294</td>\n",
       "      <td>41.250526</td>\n",
       "      <td>46.962737</td>\n",
       "      <td>46.633725</td>\n",
       "    </tr>\n",
       "    <tr>\n",
       "      <th>TAS</th>\n",
       "      <td>91.045922</td>\n",
       "      <td>88.180493</td>\n",
       "      <td>86.172198</td>\n",
       "      <td>84.712464</td>\n",
       "      <td>86.347701</td>\n",
       "      <td>92.823264</td>\n",
       "      <td>98.443535</td>\n",
       "      <td>90.832721</td>\n",
       "      <td>91.329115</td>\n",
       "      <td>91.312427</td>\n",
       "    </tr>\n",
       "    <tr>\n",
       "      <th>VIC</th>\n",
       "      <td>2.627178</td>\n",
       "      <td>4.679335</td>\n",
       "      <td>5.571241</td>\n",
       "      <td>6.504556</td>\n",
       "      <td>8.254732</td>\n",
       "      <td>10.303163</td>\n",
       "      <td>10.223983</td>\n",
       "      <td>8.107814</td>\n",
       "      <td>12.006005</td>\n",
       "      <td>15.197441</td>\n",
       "    </tr>\n",
       "    <tr>\n",
       "      <th>WA</th>\n",
       "      <td>2.933825</td>\n",
       "      <td>2.920728</td>\n",
       "      <td>3.221948</td>\n",
       "      <td>5.373827</td>\n",
       "      <td>6.133248</td>\n",
       "      <td>6.619774</td>\n",
       "      <td>6.940360</td>\n",
       "      <td>6.653088</td>\n",
       "      <td>7.462474</td>\n",
       "      <td>7.744543</td>\n",
       "    </tr>\n",
       "  </tbody>\n",
       "</table>\n",
       "</div>"
      ],
      "text/plain": [
       "            2009       2010       2011       2012       2013       2014  \\\n",
       "State                                                                     \n",
       "NSW     5.278109   6.771295   9.536412   8.447289  11.630281  10.177022   \n",
       "NT      0.331919   0.413274   0.462648   0.552802   0.706010   0.963675   \n",
       "QLD     3.884591   3.476066   3.606199   4.140304   5.207971   6.292163   \n",
       "SA     14.424195  15.350651  21.855236  26.845457  29.485390  37.472847   \n",
       "TAS    91.045922  88.180493  86.172198  84.712464  86.347701  92.823264   \n",
       "VIC     2.627178   4.679335   5.571241   6.504556   8.254732  10.303163   \n",
       "WA      2.933825   2.920728   3.221948   5.373827   6.133248   6.619774   \n",
       "\n",
       "            2015       2016       2017       2018  \n",
       "State                                              \n",
       "NSW    10.574166  14.231296  16.037979  15.660312  \n",
       "NT      1.478145   1.911347   2.921807   3.513067  \n",
       "QLD     6.044747   6.463106   6.497393   7.151522  \n",
       "SA     39.854294  41.250526  46.962737  46.633725  \n",
       "TAS    98.443535  90.832721  91.329115  91.312427  \n",
       "VIC    10.223983   8.107814  12.006005  15.197441  \n",
       "WA      6.940360   6.653088   7.462474   7.744543  "
      ]
     },
     "execution_count": 11,
     "metadata": {},
     "output_type": "execute_result"
    },
    {
     "data": {
      "image/png": "[encoded data removed]",
      "text/plain": [
       "<Figure size 576x576 with 1 Axes>"
      ]
     },
     "metadata": {
      "needs_background": "light"
     },
     "output_type": "display_data"
    }
   ],
   "source": [
    "# df with total energy generation \n",
    "total_energy = all_energy_data_df.groupby(\"State\").sum()\n",
    "\n",
    "\n",
    "\n",
    "# new df with total renewable fuel energy generation \n",
    "x = all_energy_data_df.groupby([\"State\", \"Category\"]).sum()\n",
    "y = x.reset_index() # to reset the index from State and Category \n",
    "p = y.loc[y.Category == \"Renewable fuels\"] #filtering the Renewable fuels \n",
    "# formatting and setting index as \"State\"\n",
    "del p[\"Category\"]\n",
    "total_energy_renewable = p.set_index(\"State\")\n",
    "\n",
    "# Calculating the percentage of energy generation from renewable energy sources for each state over the period 2009 to 2018\n",
    "l = total_energy_renewable.div(total_energy)*100\n",
    "l.plot.bar(figsize = (8,8))\n",
    "plt.xlabel(\"State\")\n",
    "plt.ylabel(\"Percentage\")\n",
    "\n",
    "l # showing the df\n",
    "\n",
    "\n"
   ]
  },
  {
   "cell_type": "markdown",
   "metadata": {},
   "source": [
    "## A3. Visualising the Relationship over Time\n"
   ]
  },
  {
   "cell_type": "markdown",
   "metadata": {},
   "source": [
    "###### Now let's look at the relationship between all variables impacting the energy generation over time. Ensure that you have combined all the data from the different states. Ensure that your data is aggregated by year, state, the total energy produced (total_production), and has a separate column for each of the fuel types."
   ]
  },
  {
   "cell_type": "markdown",
   "metadata": {},
   "source": [
    "###### 1. Use Python to build a Motion Chart, that visualises the energy production trend for Australia over time. The motion chart should show the units of energy production using Wind on the x-axis, the energy production using Natural gas on the y-axis, the colour represents the states/territories the bubble size should show the total_production."
   ]
  },
  {
   "cell_type": "code",
   "execution_count": 12,
   "metadata": {
    "scrolled": true
   },
   "outputs": [
    {
     "ename": "ModuleNotFoundError",
     "evalue": "No module named 'motionchart'",
     "output_type": "error",
     "traceback": [
      "\u001b[0;31m---------------------------------------------------------------------------\u001b[0m",
      "\u001b[0;31mModuleNotFoundError\u001b[0m                       Traceback (most recent call last)",
      "\u001b[0;32m<ipython-input-12-55c90d5a807a>\u001b[0m in \u001b[0;36m<module>\u001b[0;34m\u001b[0m\n\u001b[0;32m----> 1\u001b[0;31m \u001b[0;32mfrom\u001b[0m \u001b[0mmotionchart\u001b[0m\u001b[0;34m.\u001b[0m\u001b[0mmotionchart\u001b[0m \u001b[0;32mimport\u001b[0m \u001b[0mMotionChart\u001b[0m \u001b[0;31m# importing for motionchart\u001b[0m\u001b[0;34m\u001b[0m\u001b[0;34m\u001b[0m\u001b[0m\n\u001b[0m\u001b[1;32m      2\u001b[0m \u001b[0;34m\u001b[0m\u001b[0m\n\u001b[1;32m      3\u001b[0m \u001b[0md\u001b[0m \u001b[0;34m=\u001b[0m \u001b[0mall_energy_data_df\u001b[0m\u001b[0;34m.\u001b[0m\u001b[0mdrop\u001b[0m\u001b[0;34m(\u001b[0m\u001b[0;34m[\u001b[0m\u001b[0;34m\"Category\"\u001b[0m\u001b[0;34m]\u001b[0m\u001b[0;34m,\u001b[0m \u001b[0maxis\u001b[0m\u001b[0;34m=\u001b[0m\u001b[0;36m1\u001b[0m\u001b[0;34m)\u001b[0m\u001b[0;34m\u001b[0m\u001b[0;34m\u001b[0m\u001b[0m\n\u001b[1;32m      4\u001b[0m \u001b[0md_1\u001b[0m \u001b[0;34m=\u001b[0m \u001b[0md\u001b[0m\u001b[0;34m.\u001b[0m\u001b[0mmelt\u001b[0m\u001b[0;34m(\u001b[0m\u001b[0mid_vars\u001b[0m \u001b[0;34m=\u001b[0m \u001b[0;34m[\u001b[0m\u001b[0;34m\"State\"\u001b[0m\u001b[0;34m,\u001b[0m \u001b[0;34m\"Fuel_Type\"\u001b[0m\u001b[0;34m]\u001b[0m\u001b[0;34m,\u001b[0m \u001b[0mvar_name\u001b[0m \u001b[0;34m=\u001b[0m \u001b[0;34m[\u001b[0m\u001b[0;34m\"Years\"\u001b[0m\u001b[0;34m]\u001b[0m\u001b[0;34m,\u001b[0m \u001b[0mvalue_name\u001b[0m \u001b[0;34m=\u001b[0m \u001b[0;34m\"Year_Value\"\u001b[0m\u001b[0;34m)\u001b[0m\u001b[0;34m\u001b[0m\u001b[0;34m\u001b[0m\u001b[0m\n\u001b[1;32m      5\u001b[0m \u001b[0;34m\u001b[0m\u001b[0m\n",
      "\u001b[0;31mModuleNotFoundError\u001b[0m: No module named 'motionchart'"
     ]
    }
   ],
   "source": [
    "\n",
    "from motionchart.motionchart import MotionChart # importing for motionchart \n",
    "\n",
    "d = all_energy_data_df.drop([\"Category\"], axis=1)\n",
    "d_1 = d.melt(id_vars = [\"State\", \"Fuel_Type\"], var_name = [\"Years\"], value_name = \"Year_Value\")\n",
    "\n",
    "d_1.set_index(\"Years\", \"State\")\n",
    "d_chart= d_1.pivot_table(\"Year_Value\", [\"Years\", \"State\"], \"Fuel_Type\").reset_index().set_index(\"Years\", \"State\")\n",
    "\n",
    "d_chart.loc[:, \"total_production\"] = d_chart.sum(axis=1, numeric_only = True) #https://stackoverflow.com/questions/53414960/how-do-i-create-a-sum-row-and-sum-column-in-pandas. , retrieved 28th April, 2020\n",
    "\n",
    "d_chart.reset_index(inplace=True)\n",
    "d_chart.columns.name = None\n",
    "\n",
    "d_chart # showing the df"
   ]
  },
  {
   "cell_type": "code",
   "execution_count": null,
   "metadata": {},
   "outputs": [],
   "source": [
    "\n",
    "# html code block for clean visual output of motion chart \n",
    "%%html\n",
    "<style>\n",
    ".output_wrapper, .output {\n",
    "    height:auto !important;\n",
    "    max-height:1000px;  /* your desired max-height here */\n",
    "}\n",
    ".output_scroll {\n",
    "    box-shadow:none !important;\n",
    "    webkit-box-shadow:none !important;\n",
    "}\n",
    "</style>"
   ]
  },
  {
   "cell_type": "code",
   "execution_count": null,
   "metadata": {
    "scrolled": false
   },
   "outputs": [],
   "source": [
    " \n",
    "# defining variables of motionchart \n",
    "mChart = MotionChart(df = d_chart, key='Years', x='Wind', y='Natural gas', xscale='linear', yscale='linear',\n",
    "                     size='total_production', color='State', category='State')\n",
    "\n",
    "mChart.to_notebook() # motion chart display \n"
   ]
  },
  {
   "cell_type": "markdown",
   "metadata": {},
   "source": [
    "###### 2. Run the visualisation from start to end. (Hint: In Python, to speed up the animation, set the timer bar next to the play/pause button to the minimum value.) And then answer the following questions:"
   ]
  },
  {
   "cell_type": "markdown",
   "metadata": {},
   "source": [
    "###### 2.b. Which state relied most on natural gas for energy production in 2013? Please support your answer with any relevant python code and the motion chart screenshot.\n"
   ]
  },
  {
   "cell_type": "code",
   "execution_count": null,
   "metadata": {},
   "outputs": [],
   "source": [
    "d_chart[[\"Years\",\"State\",\"Natural gas\"]].loc[d_chart.Years == 2013].max() #max value for year 2013\n"
   ]
  },
  {
   "cell_type": "markdown",
   "metadata": {},
   "source": [
    "# Task B : Exploratory Analysis of Data\n",
    "## B1. Investigating the Data"
   ]
  },
  {
   "cell_type": "markdown",
   "metadata": {},
   "source": [
    "###### Please make sure to understand the data set and it’s variables properly before answering the following questions. You need to have a good insight into the dataset to be able to understand some of the questions properly and avoid confusion."
   ]
  },
  {
   "cell_type": "markdown",
   "metadata": {},
   "source": [
    "###### 1. How many tweets are there all together in the data file? How many of these tweets were posted from a verified account?"
   ]
  },
  {
   "cell_type": "code",
   "execution_count": null,
   "metadata": {},
   "outputs": [],
   "source": [
    "# importing libraries \n",
    "import pandas as pd\n",
    "import matplotlib.pyplot as plt\n",
    "%matplotlib inline # for better plot visualisation\n",
    "\n",
    "\n",
    "twitter_df = pd.read_csv(\"twitter_data.csv\") #reading the csv into pandas"
   ]
  },
  {
   "cell_type": "code",
   "execution_count": null,
   "metadata": {},
   "outputs": [],
   "source": [
    "\n",
    "\n",
    "\n",
    "total_tweets = len(twitter_df.index) # no. of rows in the dataset are the tweets. \n",
    "\n",
    "print(\"The total number of tweets in the data file is: %f\" %total_tweets)\n",
    "\n",
    "total_tweets_verified = len(twitter_df.loc[twitter_df.isVerified == 1]) # value entry 1 denoted as yes in dataset. \n",
    "\n",
    "print(\"The total number of tweets posted from a verified account in the data file is: %f \" %total_tweets_verified)\n",
    "\n"
   ]
  },
  {
   "cell_type": "markdown",
   "metadata": {},
   "source": [
    "###### 2. Draw a histogram showing the distribution of #entities extracted from the tweets. Set an appropriate bin size to present this information."
   ]
  },
  {
   "cell_type": "code",
   "execution_count": null,
   "metadata": {},
   "outputs": [],
   "source": [
    "twitter_hist = twitter_df[[\"#entities\"]]\n",
    "twitter_hist.plot.hist(figsize= (8,8), bins=11, edgecolor= \"black\") #setting bins = 11 \n",
    "plt.ylabel(\"Frequency of #entities extracted from tweets\")\n",
    "plt.xlim(0,11) # maximum number of entities is 11. \n"
   ]
  },
  {
   "cell_type": "markdown",
   "metadata": {},
   "source": [
    "###### 3. Compute the descriptive statistics (mean, std, quartile1, median, quartile3 and max ) of #entities of relevant (ie. relevanceJudge = 1) and non-relevant (ie. with relevanceJudge = 0) tweets in the dataset. (Hint: You may use the describe() function for simplicity). Explain any interesting findings."
   ]
  },
  {
   "cell_type": "code",
   "execution_count": null,
   "metadata": {},
   "outputs": [],
   "source": [
    "d_stats = twitter_df[[\"#entities\", \"relevanceJudge\"]]\n",
    "\n",
    "# #entities of relevant\n",
    "d_stats_rel = d_stats.loc[d_stats.relevanceJudge == 1].describe()\n",
    "\n",
    "\n",
    "# #entities of non-relevant \n",
    "d_stats_non_rel = d_stats.loc[d_stats.relevanceJudge == 0].describe()\n",
    "\n",
    "print(d_stats_rel)\n",
    "print(d_stats_non_rel)"
   ]
  },
  {
   "cell_type": "markdown",
   "metadata": {},
   "source": [
    "###### 4. What is the average length of the tweets (in characters) that are judged as relevant? What is the average length of a non-relevant tweet?"
   ]
  },
  {
   "cell_type": "code",
   "execution_count": null,
   "metadata": {},
   "outputs": [],
   "source": [
    "avg_len_df = twitter_df[[\"length\", \"relevanceJudge\"]]\n",
    "\n",
    "avg_len_rel = avg_len_df.loc[avg_len_df.relevanceJudge == 1].mean().drop([\"relevanceJudge\"])\n",
    "\n",
    "avg_len_non_rel = avg_len_df.loc[avg_len_df.relevanceJudge == 0].mean().drop([\"relevanceJudge\"])\n",
    "\n",
    "print(\"The average length of relevant tweets is: %f \" %avg_len_rel)\n",
    "print(\"The average length of the non-relevant tweets is: %f \" %avg_len_non_rel )\n"
   ]
  },
  {
   "cell_type": "markdown",
   "metadata": {},
   "source": [
    "###### 5. To gain further insights into the twitter age of the users, it would be better to group the twitterAge in categorical bins. Create a new column twitter age group in your dataframe based on twitterAge by converting it into the following groupings or categories [‘0-1’,’1-2’,’2-3’,’3-4’, ‘4-5’, ‘5+’]  (Hint: You can use the cut() method to bin (categorise) your data in these suggested categories)"
   ]
  },
  {
   "cell_type": "code",
   "execution_count": null,
   "metadata": {},
   "outputs": [],
   "source": [
    "\n",
    "\n",
    "twitter_df[\"age_group\"] = pd.cut(twitter_df.twitterAge, bins=[0,1,2,3,4,5,6], labels=[\"0-1\",\"1-2\",\"2-3\",\"3-4\", \"4-5\", \"5+\"])\n",
    "\n",
    "twitter_df.age_group.fillna(\"0-1\", inplace=True) # formatting data set to remove null values for the category 0-1\n",
    "\n",
    "twitter_df # to show the df\n",
    "\n"
   ]
  },
  {
   "cell_type": "markdown",
   "metadata": {},
   "source": [
    "###### 5.a. Generate boxplots summarising the distribution of each twitter age group against their median tweet length. What do you observe? Is there much variation in tweet length across the age groups?"
   ]
  },
  {
   "cell_type": "code",
   "execution_count": null,
   "metadata": {},
   "outputs": [],
   "source": [
    "twitter_5a = twitter_df[[\"length\", \"age_group\"]].sort_values(by=[\"age_group\"], ascending=True).groupby(\"age_group\")\n",
    "twitter_5a.boxplot(column='length', by='age_group', figsize=(8,8), rot=45, fontsize=9) # box plot is grouped by \"age_group\"\n",
    "plt.ylabel(\"Median Value \")\n"
   ]
  },
  {
   "cell_type": "markdown",
   "metadata": {},
   "source": [
    "###### 5.b. Which age group has the lowest median tweet length and which one has the highest? State these median values."
   ]
  },
  {
   "cell_type": "code",
   "execution_count": null,
   "metadata": {
    "scrolled": true
   },
   "outputs": [],
   "source": [
    "twitter_5b = twitter_5a.median().reset_index() #twitter_5a is the variable from part 5.a\n",
    "twitter_5b # to show the data"
   ]
  },
  {
   "cell_type": "markdown",
   "metadata": {},
   "source": [
    "###### 5.c. According to the current bushfire tweet dataset, which age group is more active on twitter(has posted most tweets - from the current processed set tweets in your dataframe)? (Note: Each record in the dataframe is a tweet)."
   ]
  },
  {
   "cell_type": "code",
   "execution_count": null,
   "metadata": {},
   "outputs": [],
   "source": [
    "twitter_5c = twitter_df[[\"age_group\"]].reset_index().groupby(\"age_group\").count().reset_index()\n",
    "twitter_5c.rename(columns={\"index\":\"Total_tweets\"}, inplace=True)\n",
    "twitter_5c.iloc[twitter_5c[\"Total_tweets\"].idxmax()] #https://community.dataquest.io/t/pandas-return-row-with-the-maximum-value-of-a-column/258474, retrieved 30th April 2020\n",
    "\n",
    "twitter_5c # to show the df\n"
   ]
  },
  {
   "cell_type": "markdown",
   "metadata": {},
   "source": [
    "###### 5.d. Create a plot showing the total number of tweets posted by each age group (from Part [c] above).\n"
   ]
  },
  {
   "cell_type": "code",
   "execution_count": null,
   "metadata": {},
   "outputs": [],
   "source": [
    "twitter_5c.set_index(\"age_group\").plot.bar(figsize=(8,8)) # df from part 5.c\n",
    "plt.xlabel(\"Age Group\")\n",
    "plt.ylabel(\"Number of Tweets\")\n",
    "plt.ylim(0,18000)\n",
    "twitter_5c # to show th df"
   ]
  },
  {
   "cell_type": "markdown",
   "metadata": {},
   "source": [
    "###### 5.e. Which age group on average has the highest number of followers on twitter?"
   ]
  },
  {
   "cell_type": "code",
   "execution_count": null,
   "metadata": {},
   "outputs": [],
   "source": [
    "twitter_5e = twitter_df[[\"age_group\", \"nFollowers\"]].groupby(\"age_group\").mean().reset_index()#avergae number of followers \n",
    "twitter_5e.rename(columns={\"nFollowers\":\"avg_followers\" }, inplace=True) #renaming column \n",
    "twitter_5e.iloc[twitter_5e[\"avg_followers\"].idxmax()] #fetching the highest avg follower count for age_group \n",
    "\n",
    "twitter_5e # to show the df"
   ]
  },
  {
   "cell_type": "markdown",
   "metadata": {},
   "source": [
    "## B2. Exploring correlation in the Data"
   ]
  },
  {
   "cell_type": "markdown",
   "metadata": {},
   "source": [
    "###### In this task, you are required to explore the above (twitter) dataset and report on any interesting relationship/correlations you discover amongst the tweet variables. Your analysis should form a logical story. The answer should contain visualisations (plots to represent the trend or correlation), interpretation of your findings and an example of a prediction task (using simple linear regression). [Note: There should be a clear reason behind each visualisation you create, followed by a concise explanation of what message the visualisation is conveying.]"
   ]
  },
  {
   "cell_type": "markdown",
   "metadata": {},
   "source": [
    "######  1. Relation between the trend of \"isGeoEnabled\"."
   ]
  },
  {
   "cell_type": "code",
   "execution_count": null,
   "metadata": {},
   "outputs": [],
   "source": [
    "\n",
    "twitter_b2_1 = twitter_df[[\"isGeoEnabled\"]]\n",
    "\n",
    "relation_geo_location = pd.DataFrame({\"Total Non Geo Enabled Tweets \" : twitter_b2_1.loc[twitter_b2_1.isGeoEnabled ==1].count(),\n",
    "                                      \"Total Geo Enabled Tweets\" : twitter_b2_1.loc[twitter_b2_1.isGeoEnabled ==0].count()})\n",
    "\n",
    "relation_geo_location.plot.bar(figsize=(8,8))\n",
    "\n",
    "plt.ylabel(\"Total tweets\")\n",
    "\n",
    "relation_geo_location # to show the df\n",
    "\n"
   ]
  },
  {
   "cell_type": "markdown",
   "metadata": {},
   "source": [
    "###### 2. Relation between relevance factor of a tweet to the topic (bushfires) posted by a verified and a non-verified account"
   ]
  },
  {
   "cell_type": "code",
   "execution_count": null,
   "metadata": {},
   "outputs": [],
   "source": [
    "\n",
    "twitter_b2_2 = twitter_df[[\"isVerified\", \"relevanceJudge\"]]\n",
    "\n",
    "relevance_factor_tweet = pd.DataFrame({\"index\": (\"Verified Account\",\"Non Verified Account\"),\n",
    "                                       \"Relevant Tweets\" : (twitter_b2_2.loc[twitter_b2_2.isVerified==1].relevanceJudge.sum() , twitter_b2_2.loc[twitter_b2_2.isVerified==0].relevanceJudge.sum()), \n",
    "                                       \"Non relevant Tweets\" : (twitter_b2_2.loc[(twitter_b2_2[\"isVerified\"] ==1) & (twitter_b2_2[\"relevanceJudge\"]==0)].isVerified.count(),twitter_b2_2.loc[(twitter_b2_2[\"isVerified\"] ==0) & (twitter_b2_2[\"relevanceJudge\"]==0)].isVerified.count()),\n",
    "                                        })\n",
    "relevance_factor_tweet[\"relevance factor\"] = (relevance_factor_tweet[\"Relevant Tweets\"]/relevance_factor_tweet[\"Non relevant Tweets\"]) # div between relevant and non relevant tweets \n",
    "\n",
    "plt_rel = relevance_factor_tweet.set_index(\"index\")\n",
    "plt_rel[\"relevance factor\"].plot.bar()\n",
    "plt.xlabel(\"Account Type\")\n",
    "plt.ylabel(\"Relevance Factor\")\n",
    "\n",
    "\n",
    "\n",
    "plt_rel # to show the data\n",
    "\n",
    "\n"
   ]
  }
 ],
 "metadata": {
  "kernelspec": {
   "display_name": "Python 3",
   "language": "python",
   "name": "python3"
  },
  "language_info": {
   "codemirror_mode": {
    "name": "ipython",
    "version": 3
   },
   "file_extension": ".py",
   "mimetype": "text/x-python",
   "name": "python",
   "nbconvert_exporter": "python",
   "pygments_lexer": "ipython3",
   "version": "3.8.3"
  }
 },
 "nbformat": 4,
 "nbformat_minor": 2
}
